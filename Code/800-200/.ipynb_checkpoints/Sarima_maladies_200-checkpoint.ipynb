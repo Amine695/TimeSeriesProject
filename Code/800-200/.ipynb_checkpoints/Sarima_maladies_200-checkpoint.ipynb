{
 "cells": [
  {
   "cell_type": "code",
   "execution_count": 1,
   "id": "9d2dd12d",
   "metadata": {},
   "outputs": [],
   "source": [
    "import os\n",
    "import glob\n",
    "import csv\n",
    "import sys\n",
    "from pathlib import Path"
   ]
  },
  {
   "cell_type": "code",
   "execution_count": 2,
   "id": "f87303a2",
   "metadata": {},
   "outputs": [],
   "source": [
    "%load_ext autoreload\n",
    "%autoreload 2\n",
    "%matplotlib inline\n",
    "import pandas as pd\n",
    "import numpy as np\n",
    "import matplotlib.pyplot as plt\n",
    "\n",
    "\n",
    "from darts import TimeSeries\n",
    "from darts.models import AutoARIMA\n",
    "from darts.metrics import mae\n",
    "from darts.utils.missing_values import fill_missing_values\n",
    "\n",
    "import warnings\n",
    "\n",
    "warnings.filterwarnings(\"ignore\")\n",
    "import logging\n",
    "\n",
    "logging.disable(logging.CRITICAL)"
   ]
  },
  {
   "cell_type": "code",
   "execution_count": 3,
   "id": "8e75b544",
   "metadata": {},
   "outputs": [],
   "source": [
    "from darts.dataprocessing.transformers import Scaler\n",
    "from darts.metrics import mae\n",
    "from darts.metrics import mse\n",
    "from darts.metrics import rmse"
   ]
  },
  {
   "cell_type": "code",
   "execution_count": 4,
   "id": "97c95c76",
   "metadata": {},
   "outputs": [
    {
     "data": {
      "text/plain": [
       "'/home/nazim/MAIN4/projetindus2/Code/800-200'"
      ]
     },
     "execution_count": 4,
     "metadata": {},
     "output_type": "execute_result"
    }
   ],
   "source": [
    "os.getcwd()"
   ]
  },
  {
   "cell_type": "code",
   "execution_count": 5,
   "id": "c30ba47c",
   "metadata": {},
   "outputs": [
    {
     "name": "stdout",
     "output_type": "stream",
     "text": [
      "darts_logs\r\n",
      "Projet_bourse_200.ipynb\r\n",
      "Projet_climat_200.ipynb\r\n",
      "Projet_données_démographiques_200.ipynb\r\n",
      "Projet_energie_gaz_eau_electricité_200.ipynb\r\n",
      "Projet_maladies_200.ipynb\r\n",
      "Sarima_bourse_200.ipynb\r\n",
      "Sarima_climat_200.ipynb\r\n",
      "Sarima_données_demographiques_200.ipynb\r\n",
      "Sarima_energie_gaz_eau_electricité_200.ipynb\r\n",
      "Sarima_maladies_200.ipynb\r\n",
      "Transformers_bourse.ipynb\r\n",
      "Transformers_climat.ipynb\r\n",
      "Transformers_données_démographiques.ipynb\r\n",
      "Transformers_energie_gaz_eau_electricité.ipynb\r\n",
      "Transformers_maladies.ipynb\r\n"
     ]
    }
   ],
   "source": [
    "!ls"
   ]
  },
  {
   "cell_type": "code",
   "execution_count": 6,
   "id": "24cba9ea",
   "metadata": {},
   "outputs": [
    {
     "data": {
      "text/plain": [
       "'/home/nazim/MAIN4/projetindus2/Datasets/Maladies'"
      ]
     },
     "execution_count": 6,
     "metadata": {},
     "output_type": "execute_result"
    }
   ],
   "source": [
    "os.chdir('../../Datasets/Maladies')\n",
    "os.getcwd()"
   ]
  },
  {
   "cell_type": "code",
   "execution_count": 7,
   "id": "2a7a527a",
   "metadata": {},
   "outputs": [],
   "source": [
    "def interpolate_method(df,column_name,methode,direction,order,limit):\n",
    "  df[column_name] = df[column_name].interpolate(method=methode,limit_direction = direction,order=order,limit=limit)\n",
    "  return df\n",
    "\n",
    "def clean_csv(df,time_variable,quantitative_variable):\n",
    "  df = df[[time_variable, quantitative_variable]].copy()\n",
    "  df.columns = ['ds','y']\n",
    "  df['y'] = (df['y'].apply(pd.to_numeric, errors='coerce')).to_frame()\n",
    "  df = df.drop_duplicates(subset=['ds'])\n",
    "  df['ds'] = pd.to_datetime(df.ds, errors = 'coerce')\n",
    "  df = df.dropna(subset=['ds'])\n",
    "  df = df.sort_values(by=['ds'])\n",
    "  pourcentage = ((len(df) - df['y'].count()) / len(df)) * 100\n",
    "  if(pourcentage < 25):\n",
    "    df = interpolate_method(df,'y',\"polynomial\",None,2,None)\n",
    "  elif((pourcentage >= 25)):\n",
    "    print(\"La base de donnée comporte un grand nombre de données manquantes pour être étudiée.\")\n",
    "  if(len(df) > 1000):\n",
    "      supr = len(df) - 1000\n",
    "      df = df[:-supr]\n",
    "  return df, pourcentage"
   ]
  },
  {
   "cell_type": "code",
   "execution_count": 8,
   "id": "a9bafd21",
   "metadata": {},
   "outputs": [],
   "source": [
    "def simul():\n",
    "    file_name = []\n",
    "    df = []\n",
    "    pourcentage = []\n",
    "\n",
    "    series_scaled_list= []\n",
    "    val_scaled_list = []\n",
    "    pred_series_list= []\n",
    "    error_results = pd.DataFrame(columns=['DATA_SET_NAME','MAE','MSE','RMSE'])\n",
    "    i = 0\n",
    "    \n",
    "    for files in glob.glob(\"*.csv\"):\n",
    "        file_name.append(Path(files).stem)\n",
    "        print(file_name[i])\n",
    "        df_not_cleaned = pd.read_csv(files, delimiter = ';')\n",
    "        df_clean, pourcentage_actual = clean_csv(df_not_cleaned, \"Date\",\"Value\")\n",
    "        df.append(df_clean)\n",
    "        pourcentage.append(pourcentage_actual)\n",
    "\n",
    "        series = TimeSeries.from_dataframe(df_clean, 'ds', 'y')\n",
    "\n",
    "        train, val = series[:-200], series[-200:]\n",
    "\n",
    "        print(\"the {} dataset has {} data points\".format(file_name[i],len(series)))\n",
    "        \n",
    "        \n",
    "        model = AutoARIMA()\n",
    "        model.fit(train)\n",
    "        pred_series = model.predict(len(val))\n",
    "        \n",
    "        scaler = Scaler()\n",
    "        train_scaled = scaler.fit_transform(train)\n",
    "        val_scaled = scaler.transform(val)\n",
    "        pred_series_scaled = scaler.transform(pred_series)\n",
    "        series_scaled = scaler.transform(series)\n",
    "        \n",
    "        series_scaled_list.append(series_scaled)\n",
    "        val_scaled_list.append(val_scaled)\n",
    "        \n",
    "        pred_series_list.append(pred_series_scaled)\n",
    "        \n",
    "        df_new_row_error = pd.DataFrame(data=np.array([[file_name[i],mae(pred_series_scaled, val_scaled), mse(pred_series_scaled, val_scaled), rmse(pred_series_scaled, val_scaled)]]), columns=['DATA_SET_NAME','MAE','MSE','RMSE'])\n",
    "        error_results = pd.concat([error_results,df_new_row_error], ignore_index=True)\n",
    "        i = i +1\n",
    "\n",
    "    return file_name, df, series_scaled_list, val_scaled_list, pred_series_list, error_results"
   ]
  },
  {
   "cell_type": "code",
   "execution_count": null,
   "id": "7441d644",
   "metadata": {},
   "outputs": [
    {
     "name": "stdout",
     "output_type": "stream",
     "text": [
      "D-R031\n",
      "the D-R031 dataset has 1000 data points\n",
      "D-N02BE1\n",
      "the D-N02BE1 dataset has 1000 data points\n"
     ]
    }
   ],
   "source": [
    "file_name, df, series_scaled_list, val_scaled_list, pred_series_list, error_results = simul()"
   ]
  },
  {
   "cell_type": "code",
   "execution_count": null,
   "id": "36f78c51",
   "metadata": {},
   "outputs": [],
   "source": [
    "error_results.to_csv(r'../../Resultats/Resultats_200/Sarima_results_maladies.csv', index = False)"
   ]
  },
  {
   "cell_type": "code",
   "execution_count": null,
   "id": "42b280ba",
   "metadata": {},
   "outputs": [],
   "source": [
    "print(error_results)"
   ]
  },
  {
   "cell_type": "code",
   "execution_count": null,
   "id": "d248ccaf",
   "metadata": {
    "scrolled": false
   },
   "outputs": [],
   "source": [
    "for i in range(len(df)):\n",
    "    plt.figure(figsize=(20,5))\n",
    "    train, val = series_scaled_list[i][:-200], series_scaled_list[i][-200:]\n",
    "    train.plot(color ='blue', label=\"train\")\n",
    "    val.plot(color ='orange', label=\"val\")\n",
    "    pred_series_list[i].plot(color ='green',label=\"forecast\")\n",
    "    plt.title('SARIMA {}.csv\\nMAE: {:.10f}%, MSE: {:.10f}%, RMSE: {:.10f}%'.format(file_name[i],mae(pred_series_list[i], val_scaled_list[i]), mse(pred_series_list[i], val_scaled_list[i]), rmse(pred_series_list[i], val_scaled_list[i])))\n",
    "    plt.legend(loc='best')\n",
    "    plt.show()"
   ]
  },
  {
   "cell_type": "code",
   "execution_count": null,
   "id": "ecf1e473",
   "metadata": {},
   "outputs": [],
   "source": []
  }
 ],
 "metadata": {
  "kernelspec": {
   "display_name": "Python 3 (ipykernel)",
   "language": "python",
   "name": "python3"
  },
  "language_info": {
   "codemirror_mode": {
    "name": "ipython",
    "version": 3
   },
   "file_extension": ".py",
   "mimetype": "text/x-python",
   "name": "python",
   "nbconvert_exporter": "python",
   "pygments_lexer": "ipython3",
   "version": "3.9.7"
  }
 },
 "nbformat": 4,
 "nbformat_minor": 5
}
